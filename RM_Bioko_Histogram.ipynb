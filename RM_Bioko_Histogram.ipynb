{
 "cells": [
  {
   "cell_type": "code",
   "execution_count": 2,
   "metadata": {},
   "outputs": [],
   "source": [
    "%matplotlib inline"
   ]
  },
  {
   "cell_type": "code",
   "execution_count": 3,
   "metadata": {},
   "outputs": [],
   "source": [
    "import matplotlib.pyplot as plt\n",
    "import numpy as np\n",
    "import csv"
   ]
  },
  {
   "cell_type": "markdown",
   "metadata": {},
   "source": [
    "## Load the data"
   ]
  },
  {
   "cell_type": "code",
   "execution_count": 4,
   "metadata": {},
   "outputs": [
    {
     "name": "stdout",
     "output_type": "stream",
     "text": [
      "Column names are model, R0\n",
      "Processed 389 lines.\n"
     ]
    }
   ],
   "source": [
    "data_path = \"/Users/dtcitron/Documents/Publications/TarFlux/Data/R0_BI_histo_data.csv\"\n",
    "hist_data = np.zeros((194*2))\n",
    "\n",
    "with open(data_path) as csv_file:\n",
    "    csv_reader = csv.reader(csv_file, delimiter=',')\n",
    "    line_count = 0\n",
    "    for row in csv_reader:\n",
    "        if line_count == 0:\n",
    "            print(f'Column names are {\", \".join(row)}')\n",
    "            line_count += 1\n",
    "        else:\n",
    "            hist_data[line_count - 1] = float(row[1])\n",
    "            line_count += 1\n",
    "    print(f'Processed {line_count} lines.')  "
   ]
  },
  {
   "cell_type": "code",
   "execution_count": 5,
   "metadata": {},
   "outputs": [],
   "source": [
    "flux = hist_data[:194]\n",
    "tar = hist_data[194:]"
   ]
  },
  {
   "cell_type": "code",
   "execution_count": 18,
   "metadata": {},
   "outputs": [
    {
     "data": {
      "image/png": "[encoded data removed]",
      "text/plain": [
       "<Figure size 576x576 with 1 Axes>"
      ]
     },
     "metadata": {
      "needs_background": "light"
     },
     "output_type": "display_data"
    }
   ],
   "source": [
    "plt.figure(figsize=(8,8))\n",
    "\n",
    "\n",
    "plt.hist(tar, bins = np.arange(min(tar), max(tar), step = .1), \n",
    "         color = \"Blue\", alpha = 0.7)\n",
    "plt.hist(flux, bins = np.arange(min(flux), max(flux), step = .1), \n",
    "         color = \"Red\", alpha = 0.7)\n",
    "plt.hist(tar, bins = np.arange(min(tar), max(tar), step = .1), \n",
    "         color = \"Blue\", alpha = 0.3)\n",
    "\n",
    "plt.tick_params(axis = \"both\", which = \"major\", labelsize = 24)\n",
    "plt.xlabel(r\"$R_0$\", fontsize = 36)\n",
    "#plt.ylabel(r\"$N  $\", fontsize = 40, rotation = 0)\n",
    "#plt.xlabel(\"Time (years)\", fontsize = 20)\n",
    "plt.xticks([-3,-2,-1,0, 1, 2, 3,4], [\"-3\", \"-2\", \"-1\",\"0\", \"1\", \"2\",\"3\", \"4\"])\n",
    "plt.yticks([0,10,20,30])#, [\"-3\", \"-2\", \"-1\",\"0\", \"1\", \"2\",\"3\", \"4\"])\n",
    "\n",
    "\n",
    "#plt.yticks([0,.25,.5,.75], [\"0.0\",\"0.25\",\"0.5\",\"0.75\"])\n",
    "\n",
    "plt.legend([\"Simple Trip Model\", \"Flux Model\"], \\\n",
    "           loc = (\"upper left\"), fontsize = 22)\n",
    "\n",
    "# Re-plot to get around legend placement problems\n",
    "plt.vlines(1, 0, 60, color = \"black\", linewidth =3, linestyles=\"dashed\")\n",
    "\n",
    "plt.xlim(-3.5,4)\n",
    "plt.ylim(0,35)\n",
    "\n",
    "plt.tight_layout()\n",
    "\n",
    "plt.savefig(\"/Users/dtcitron/Documents/Publications/TarFlux/Figures/BI_R0_histograms.pdf\")"
   ]
  },
  {
   "cell_type": "code",
   "execution_count": 14,
   "metadata": {},
   "outputs": [
    {
     "data": {
      "image/png": "[encoded data removed]",
      "text/plain": [
       "<Figure size 288x216 with 1 Axes>"
      ]
     },
     "metadata": {
      "needs_background": "light"
     },
     "output_type": "display_data"
    }
   ],
   "source": [
    "plt.figure(figsize=(4,3))\n",
    "\n",
    "\n",
    "plt.hist(tar, bins = np.arange(min(tar), max(tar), step = .1), \n",
    "         color = \"Blue\", alpha = 0.7)\n",
    "plt.hist(flux, bins = np.arange(min(flux), max(flux), step = .1), \n",
    "         color = \"Red\", alpha = 0.7)\n",
    "plt.hist(tar, bins = np.arange(min(tar), max(tar), step = .1), \n",
    "         color = \"Blue\", alpha = 0.3)\n",
    "\n",
    "plt.tick_params(axis = \"both\", which = \"major\", labelsize = 20)\n",
    "#plt.xlabel(r\"$R_0$\", fontsize = 40)\n",
    "#plt.ylabel(r\"$N  $\", fontsize = 40, rotation = 0)\n",
    "plt.xticks([-15,-10,-5,0])#, [\"-3\", \"-2\", \"-1\",\"0\", \"1\", \"2\",\"3\", \"4\"])\n",
    "plt.yticks([0,10,20,30])\n",
    "           \n",
    "#plt.legend([\"TaR Model\", \"Flux Model\"], loc = (\"upper left\"), fontsize = 26)\n",
    "\n",
    "# Re-plot to get around legend placement problems\n",
    "plt.vlines(1, 0, 60, color = \"black\", linewidth =1.5, linestyles=\"dashed\")\n",
    "\n",
    "plt.xlim(-20,4)\n",
    "plt.ylim(0,35)\n",
    "\n",
    "plt.tight_layout()\n",
    "\n",
    "plt.savefig(\"/Users/dtcitron/Documents/Publications/TarFlux/Figures/BI_R0_histograms_long.pdf\")"
   ]
  },
  {
   "cell_type": "code",
   "execution_count": 11,
   "metadata": {},
   "outputs": [
    {
     "data": {
      "text/plain": [
       "-31.8395531889837"
      ]
     },
     "execution_count": 11,
     "metadata": {},
     "output_type": "execute_result"
    }
   ],
   "source": [
    "min(flux)"
   ]
  },
  {
   "cell_type": "code",
   "execution_count": null,
   "metadata": {},
   "outputs": [],
   "source": []
  }
 ],
 "metadata": {
  "kernelspec": {
   "display_name": "Python 3",
   "language": "python",
   "name": "python3"
  },
  "language_info": {
   "codemirror_mode": {
    "name": "ipython",
    "version": 3
   },
   "file_extension": ".py",
   "mimetype": "text/x-python",
   "name": "python",
   "nbconvert_exporter": "python",
   "pygments_lexer": "ipython3",
   "version": "3.6.8"
  }
 },
 "nbformat": 4,
 "nbformat_minor": 2
}
